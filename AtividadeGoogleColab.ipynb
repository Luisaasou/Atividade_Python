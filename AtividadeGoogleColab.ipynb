{
  "cells": [
    {
      "cell_type": "markdown",
      "metadata": {
        "id": "view-in-github",
        "colab_type": "text"
      },
      "source": [
        "<a href=\"https://colab.research.google.com/github/Luisaasou/Atividade_Python/blob/main/AtividadeGoogleColab.ipynb\" target=\"_parent\"><img src=\"https://colab.research.google.com/assets/colab-badge.svg\" alt=\"Open In Colab\"/></a>"
      ]
    },
    {
      "cell_type": "code",
      "execution_count": null,
      "metadata": {
        "colab": {
          "base_uri": "https://localhost:8080/"
        },
        "id": "zNQ-54NjeMfd",
        "outputId": "d7a4aa04-4f14-4c24-87cf-1442be68c652"
      },
      "outputs": [
        {
          "name": "stdout",
          "output_type": "stream",
          "text": [
            "Hello World\n"
          ]
        }
      ],
      "source": [
        "print (\"Hello World\")"
      ]
    },
    {
      "cell_type": "markdown",
      "metadata": {
        "id": "bD9rcQ4Di0jS"
      },
      "source": [
        "2.1. Primeiros Comandos no Python:\n",
        "Esse comando exibe a mensagem \"Hello  World\" na tela, e a função print() em Python serve para imprimir texto ou outros dados no console. O programa Hello World geralmente é usado como uma iniciação na programação por várias razões como sua simplicidade de exibir uma frase na tela, não requer conhecimento avançado de programação para ser usado. O seu objetivo é focar em códigos básicos."
      ]
    },
    {
      "cell_type": "code",
      "execution_count": null,
      "metadata": {
        "colab": {
          "base_uri": "https://localhost:8080/"
        },
        "id": "RdtajSw0nT54",
        "outputId": "9b183295-ec84-467e-a568-b2b1c8cfa660"
      },
      "outputs": [
        {
          "name": "stdout",
          "output_type": "stream",
          "text": [
            "nome: João idade: 21 altura: 1.75\n"
          ]
        }
      ],
      "source": [
        "nome = \"João\"\n",
        "idade = 21\n",
        "altura = 1.75\n",
        "print(\"nome:\",nome ,\"idade:\",idade, \"altura:\",altura,)"
      ]
    },
    {
      "cell_type": "markdown",
      "metadata": {
        "id": "CgM8F8loV1lu"
      },
      "source": []
    },
    {
      "cell_type": "markdown",
      "metadata": {
        "id": "lLF9UQAoo7em"
      },
      "source": [
        "2.2. Variáveis e Tipos de Dados:\n",
        "Variáveis são espaços que armazenam algum valor na memória do computador. Para criar uma variável você atribui um valor a um nome. Os principais tipos de dados em Python são: Int \"Inteiro\", float \"decimal\", str \"String\", bool \"booleano\", list \"lista\", tuple \"tupla\", dict \"dicionário\"."
      ]
    },
    {
      "cell_type": "markdown",
      "metadata": {
        "id": "4QgY9aX6V2Pu"
      },
      "source": []
    },
    {
      "cell_type": "code",
      "execution_count": null,
      "metadata": {
        "colab": {
          "base_uri": "https://localhost:8080/"
        },
        "id": "REEHQDy8DlBn",
        "outputId": "8c30c2c7-ff20-4d95-bcfd-2c70cfe4ec6a"
      },
      "outputs": [
        {
          "name": "stdout",
          "output_type": "stream",
          "text": [
            "soma 15\n",
            "subtração 5\n",
            "multiplicação 50\n",
            "divisão 2.0\n",
            "digite o primeiro número:5\n",
            "digite o segundo número:4\n",
            "escolha uma operação:\n",
            "1 - soma\n",
            "2 - subtração\n",
            "3 - multiplicação\n",
            "4 - divisão\n",
            "Digite o número que deseja:1\n",
            "\n",
            "Operacao escolhida:soma\n",
            "Resultado:9.0\n"
          ]
        }
      ],
      "source": [
        "a=10\n",
        "b=5\n",
        "soma= a + b\n",
        "subtração= a - b\n",
        "multiplicação= a * b\n",
        "divisão= a / b\n",
        "print(\"soma\", soma)\n",
        "print(\"subtração\", subtração)\n",
        "print(\"multiplicação\", multiplicação)\n",
        "print(\"divisão\", divisão)\n",
        "num1 = float(input(\"digite o primeiro número:\"))\n",
        "num2 = float(input(\"digite o segundo número:\"))\n",
        "print(\"escolha uma operação:\")\n",
        "print(\"1 - soma\")\n",
        "print(\"2 - subtração\")\n",
        "print(\"3 - multiplicação\")\n",
        "print(\"4 - divisão\")\n",
        "opcao = input(\"Digite o número que deseja:\")\n",
        "if opcao =='1':\n",
        "  resultado = num1 + num2\n",
        "  operacao = \"soma\"\n",
        "elif opcao =='2':\n",
        "  resultado = num1 - num2\n",
        "  operacao = \"subtração\"\n",
        "elif opcao =='3':\n",
        "  resultado = num1 * num2\n",
        "  operacao = \"multiplicação\"\n",
        "elif opcao =='4':\n",
        "  if num2!=0:\n",
        "    resultado = num1 / num2\n",
        "    operacao = \"divisão\"\n",
        "  else:\n",
        "    resultado = \"operação inválida\"\n",
        "    operacao = \"desconhecida\"\n",
        "print(f\"\\nOperacao escolhida:{operacao}\")\n",
        "print(f\"Resultado:{resultado}\")"
      ]
    },
    {
      "cell_type": "markdown",
      "metadata": {
        "id": "327MmkUAWwm2"
      },
      "source": [
        "2.3. Operações Aritméticas: Para operações aritméticas usamos os operadores das quatro operações matemáticas: +, -, *, /."
      ]
    },
    {
      "cell_type": "code",
      "execution_count": null,
      "metadata": {
        "colab": {
          "base_uri": "https://localhost:8080/"
        },
        "id": "7HQKQjUfQS6R",
        "outputId": "3e2ac2e9-b506-4c26-b1ab-a8fc710a01e6"
      },
      "outputs": [
        {
          "name": "stdout",
          "output_type": "stream",
          "text": [
            "escolha uma conversão:\n",
            "1 - Celsius para Fahrenheit\n",
            "2 - Fahrenheit para Celsius\n",
            "Digite 1 ou 2: 1\n",
            "Digite a temperatura em Celsius36\n",
            "36.0°C equivale a 96.80°F\n"
          ]
        }
      ],
      "source": [
        "print(\"escolha uma conversão:\")\n",
        "print(\"1 - Celsius para Fahrenheit\")\n",
        "print(\"2 - Fahrenheit para Celsius\")\n",
        "opcao = input(\"Digite 1 ou 2: \")\n",
        "if opcao == '1':\n",
        "  celso = float(input(\"Digite a temperatura em Celsius\"))\n",
        "  fahrenheit = (celso * 9/5) + 32\n",
        "  print(f\"{celso}°C equivale a {fahrenheit:.2f}°F\")\n",
        "elif opcao == '2':\n",
        "  fahrenheit = float(input(\"Digite a temperatura em Fahrenheit\"))\n",
        "  celso = (fahrenheit - 32) * 5/9\n",
        "  print(f\"{fahrenheit}°F equivale a {celso:.2f}°C\")\n",
        "else:\n",
        "  print(\"opção inválida\")"
      ]
    },
    {
      "cell_type": "code",
      "execution_count": null,
      "metadata": {
        "colab": {
          "base_uri": "https://localhost:8080/"
        },
        "id": "_b4y4Ue9XC7F",
        "outputId": "1d0d33aa-8946-4de1-b66e-43ce3f2049d3"
      },
      "outputs": [
        {
          "name": "stdout",
          "output_type": "stream",
          "text": [
            "Digite a frase:Água mole e Pedra dura.\n",
            "A frase contén 5 palavra(s).\n"
          ]
        }
      ],
      "source": [
        "frase = input(\"Digite a frase:\")\n",
        "palavras = frase.split()\n",
        "quantidade_palavras = len(palavras)\n",
        "print(f\"A frase contén {quantidade_palavras} palavra(s).\")"
      ]
    },
    {
      "cell_type": "code",
      "execution_count": null,
      "metadata": {
        "colab": {
          "background_save": true,
          "base_uri": "https://localhost:8080/"
        },
        "id": "C1vaS97OZHBO",
        "outputId": "0092e40a-bac9-4576-8a66-f7d3f766e33f"
      },
      "outputs": [
        {
          "name": "stdout",
          "output_type": "stream",
          "text": [
            "\n",
            " Sistema de Controle de Hóspedes\n",
            "1 - Cadastrar hóspede\n",
            "2 - Listar hóspedes\n",
            "3 - Sair\n",
            "\n",
            " Hóspede Batata Calabreza cadastrado com sucesso no quarto 3!\n",
            "\n",
            "\n",
            " Sistema de Controle de Hóspedes\n",
            "1 - Cadastrar hóspede\n",
            "2 - Listar hóspedes\n",
            "3 - Sair\n",
            "\n",
            " Hóspede Celulose  cadastrado com sucesso no quarto 25!\n",
            "\n",
            "\n",
            " Sistema de Controle de Hóspedes\n",
            "1 - Cadastrar hóspede\n",
            "2 - Listar hóspedes\n",
            "3 - Sair\n",
            "\n",
            " Opção inválida. Tente novamente.\n",
            "\n",
            "\n",
            " Sistema de Controle de Hóspedes\n",
            "1 - Cadastrar hóspede\n",
            "2 - Listar hóspedes\n",
            "3 - Sair\n",
            "\n",
            " Hóspede Losanglo cadastrado com sucesso no quarto 96!\n",
            "\n",
            "\n",
            " Sistema de Controle de Hóspedes\n",
            "1 - Cadastrar hóspede\n",
            "2 - Listar hóspedes\n",
            "3 - Sair\n",
            "\n",
            " Lista de Hóspedes:\n",
            "\n",
            "Nome: Batata Calabreza\n",
            "CPF: 364568657\n",
            "Possui crianças: Sim\n",
            "Número do quarto: 3\n",
            "Dias de estadia: 15\n",
            "------------------------------\n",
            "Nome: Celulose \n",
            "CPF: 956496862\n",
            "Possui crianças: Não\n",
            "Número do quarto: 25\n",
            "Dias de estadia: 30\n",
            "------------------------------\n",
            "Nome: Losanglo\n",
            "CPF: 32145179\n",
            "Possui crianças: Sim\n",
            "Número do quarto: 96\n",
            "Dias de estadia: 20\n",
            "------------------------------\n",
            "\n",
            " Sistema de Controle de Hóspedes\n",
            "1 - Cadastrar hóspede\n",
            "2 - Listar hóspedes\n",
            "3 - Sair\n"
          ]
        }
      ],
      "source": [
        "# --------------------------------------------\n",
        "# Sistema de Controle de Hóspedes - Hotel Python\n",
        "# Autor: Samuel Oliveira e Luisa Souza\n",
        "# Data: 08/08/2025\n",
        "# --------------------------------------------\n",
        "\n",
        "# Lista que armazena todos os hóspedes\n",
        "hospedes = []\n",
        "\n",
        "# Dicionário para controlar a quantidade de hóspedes por quarto\n",
        "quartos = {}\n",
        "\n",
        "# Função para cadastrar um novo hóspede\n",
        "def cadastrar_hospede():\n",
        "    nome = input(\"Digite o nome do hóspede: \")\n",
        "    cpf = input(\"Digite o CPF do hóspede: \")\n",
        "    possui_criancas = input(\"Possui crianças? (s/n): \").lower() == 's'\n",
        "    numero_quarto = input(\"Digite o número do quarto: \")\n",
        "    dias_estadia = int(input(\"Digite o número de dias de estadia: \"))\n",
        "\n",
        "    # Verifica se o quarto já existe no controle\n",
        "    if numero_quarto not in quartos:\n",
        "        quartos[numero_quarto] = 0\n",
        "\n",
        "    # Limite de 5 hóspedes por quarto\n",
        "    if quartos[numero_quarto] >= 5:\n",
        "        print(\"\\n Não é possível adicionar. Quarto já atingiu o limite de 5 hóspedes.\\n\")\n",
        "        return\n",
        "\n",
        "    # Cria um dicionário com os dados do hóspede\n",
        "    hospede = {\n",
        "        \"nome\": nome,\n",
        "        \"cpf\": cpf,\n",
        "        \"possui_criancas\": possui_criancas,\n",
        "        \"numero_quarto\": numero_quarto,\n",
        "        \"dias_estadia\": dias_estadia\n",
        "    }\n",
        "\n",
        "    # Adiciona hóspede à lista\n",
        "    hospedes.append(hospede)\n",
        "    quartos[numero_quarto] += 1\n",
        "\n",
        "    print(f\"\\n Hóspede {nome} cadastrado com sucesso no quarto {numero_quarto}!\\n\")\n",
        "\n",
        "# Função para listar todos os hóspedes\n",
        "def listar_hospedes():\n",
        "    if not hospedes:\n",
        "        print(\"\\n Nenhum hóspede cadastrado.\\n\")\n",
        "        return\n",
        "\n",
        "    print(\"\\n Lista de Hóspedes:\\n\")\n",
        "    for h in hospedes:\n",
        "        print(f\"Nome: {h['nome']}\")\n",
        "        print(f\"CPF: {h['cpf']}\")\n",
        "        print(f\"Possui crianças: {'Sim' if h['possui_criancas'] else 'Não'}\")\n",
        "        print(f\"Número do quarto: {h['numero_quarto']}\")\n",
        "        print(f\"Dias de estadia: {h['dias_estadia']}\")\n",
        "        print(\"-\" * 30)\n",
        "\n",
        "# Função principal do sistema\n",
        "def menu():\n",
        "    while True:\n",
        "        print(\"\\n Sistema de Controle de Hóspedes\")\n",
        "        print(\"1 - Cadastrar hóspede\")\n",
        "        print(\"2 - Listar hóspedes\")\n",
        "        print(\"3 - Sair\")\n",
        "\n",
        "        opcao = input(\"Escolha uma opção: \")\n",
        "\n",
        "        if opcao == '1':\n",
        "            cadastrar_hospede()\n",
        "        elif opcao == '2':\n",
        "            listar_hospedes()\n",
        "        elif opcao == '3':\n",
        "            print(\"\\n Encerrando o sistema. Até logo!\")\n",
        "            break\n",
        "        else:\n",
        "            print(\"\\n Opção inválida. Tente novamente.\\n\")\n",
        "\n",
        "# Executa o sistema\n",
        "menu()"
      ]
    },
    {
      "cell_type": "markdown",
      "metadata": {
        "id": "BV56AbIrjJ6n"
      },
      "source": [
        "Documentação do Projeto\n",
        "Nome: Sistema de Controle de Hóspedes – Hotel Python\n",
        "Objetivo: Gerenciar hóspedes, armazenando suas informações e limitando a 5 hóspedes por quarto.\n",
        "Funcionalidades:\n",
        "Cadastrar hóspedes\n",
        "Mostrar lista de hóspedes\n",
        "Limitar a 5 hóspedes por quarto\n",
        "Calcular valor total da estadia (opcional para melhorar o projeto)\n",
        "Variáveis de cada hóspede:\n",
        "nome → Nome do hóspede\n",
        "cpf → CPF do hóspede\n",
        "possui_criancas → Se possui crianças (True/False)\n",
        "numero_quarto → Número do quarto\n",
        "dias_estadia → Quantidade de dias que ficará hospedado"
      ]
    }
  ],
  "metadata": {
    "colab": {
      "provenance": [],
      "include_colab_link": true
    },
    "kernelspec": {
      "display_name": "Python 3",
      "name": "python3"
    },
    "language_info": {
      "name": "python"
    }
  },
  "nbformat": 4,
  "nbformat_minor": 0
}